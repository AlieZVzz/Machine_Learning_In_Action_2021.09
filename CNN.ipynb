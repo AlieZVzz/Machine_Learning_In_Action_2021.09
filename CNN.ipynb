{
 "cells": [
  {
   "cell_type": "code",
   "execution_count": 3,
   "metadata": {},
   "outputs": [],
   "source": [
    "from tensorflow.keras import layers\n",
    "from tensorflow.keras import models\n",
    "model=models.Sequential()\n",
    "model.add(layers.Conv2D(32,(3,3),activation=\"relu\",input_shape=(28,28,1)))\n",
    "model.add(layers.MaxPooling2D((2,2)))\n",
    "model.add(layers.Conv2D(64,(3,3),activation=\"relu\"))\n",
    "model.add(layers.MaxPooling2D((2,2)))\n",
    "model.add(layers.Conv2D(64,(3,3),activation=\"relu\"))"
   ]
  },
  {
   "cell_type": "code",
   "execution_count": 4,
   "metadata": {},
   "outputs": [
    {
     "name": "stdout",
     "output_type": "stream",
     "text": [
      "Model: \"sequential\"\n",
      "_________________________________________________________________\n",
      "Layer (type)                 Output Shape              Param #   \n",
      "=================================================================\n",
      "conv2d (Conv2D)              (None, 26, 26, 32)        320       \n",
      "_________________________________________________________________\n",
      "max_pooling2d (MaxPooling2D) (None, 13, 13, 32)        0         \n",
      "_________________________________________________________________\n",
      "conv2d_1 (Conv2D)            (None, 11, 11, 64)        18496     \n",
      "_________________________________________________________________\n",
      "max_pooling2d_1 (MaxPooling2 (None, 5, 5, 64)          0         \n",
      "_________________________________________________________________\n",
      "conv2d_2 (Conv2D)            (None, 3, 3, 64)          36928     \n",
      "=================================================================\n",
      "Total params: 55,744\n",
      "Trainable params: 55,744\n",
      "Non-trainable params: 0\n",
      "_________________________________________________________________\n"
     ]
    }
   ],
   "source": [
    "model.summary()"
   ]
  },
  {
   "cell_type": "code",
   "execution_count": 5,
   "metadata": {},
   "outputs": [
    {
     "name": "stdout",
     "output_type": "stream",
     "text": [
      "Model: \"sequential\"\n",
      "_________________________________________________________________\n",
      "Layer (type)                 Output Shape              Param #   \n",
      "=================================================================\n",
      "conv2d (Conv2D)              (None, 26, 26, 32)        320       \n",
      "_________________________________________________________________\n",
      "max_pooling2d (MaxPooling2D) (None, 13, 13, 32)        0         \n",
      "_________________________________________________________________\n",
      "conv2d_1 (Conv2D)            (None, 11, 11, 64)        18496     \n",
      "_________________________________________________________________\n",
      "max_pooling2d_1 (MaxPooling2 (None, 5, 5, 64)          0         \n",
      "_________________________________________________________________\n",
      "conv2d_2 (Conv2D)            (None, 3, 3, 64)          36928     \n",
      "_________________________________________________________________\n",
      "flatten (Flatten)            (None, 576)               0         \n",
      "_________________________________________________________________\n",
      "dense (Dense)                (None, 64)                36928     \n",
      "_________________________________________________________________\n",
      "dense_1 (Dense)              (None, 10)                650       \n",
      "=================================================================\n",
      "Total params: 93,322\n",
      "Trainable params: 93,322\n",
      "Non-trainable params: 0\n",
      "_________________________________________________________________\n"
     ]
    }
   ],
   "source": [
    "model.add(layers.Flatten())\n",
    "model.add(layers.Dense(64,activation=\"relu\"))\n",
    "model.add(layers.Dense(10,activation=\"softmax\"))\n",
    "model.summary()"
   ]
  },
  {
   "cell_type": "code",
   "execution_count": 6,
   "metadata": {},
   "outputs": [
    {
     "name": "stdout",
     "output_type": "stream",
     "text": [
      "Epoch 1/5\n",
      "938/938 [==============================] - 10s 8ms/step - loss: 0.1654 - accuracy: 0.9477\n",
      "Epoch 2/5\n",
      "938/938 [==============================] - 8s 8ms/step - loss: 0.0458 - accuracy: 0.9855\n",
      "Epoch 3/5\n",
      "938/938 [==============================] - 7s 8ms/step - loss: 0.0320 - accuracy: 0.9902\n",
      "Epoch 4/5\n",
      "938/938 [==============================] - 8s 8ms/step - loss: 0.0254 - accuracy: 0.9923\n",
      "Epoch 5/5\n",
      "938/938 [==============================] - 7s 8ms/step - loss: 0.0193 - accuracy: 0.9938\n"
     ]
    },
    {
     "data": {
      "text/plain": [
       "<tensorflow.python.keras.callbacks.History at 0x1378e2feb80>"
      ]
     },
     "execution_count": 6,
     "metadata": {},
     "output_type": "execute_result"
    }
   ],
   "source": [
    "from tensorflow.keras.datasets import mnist\n",
    "from tensorflow.keras.utils import to_categorical\n",
    "(train_images,train_labels),(test_images,test_labels)=mnist.load_data()\n",
    "train_images=train_images.reshape(60000,28,28,1)\n",
    "train_images=train_images.astype('float32')/255\n",
    "\n",
    "test_images=test_images.reshape(10000,28,28,1)\n",
    "test_images=test_images.astype('float32')/255\n",
    "train_labels=to_categorical(train_labels)\n",
    "test_labels=to_categorical(test_labels)\n",
    "\n",
    "model.compile(optimizer=\"rmsprop\",loss=\"categorical_crossentropy\",metrics=['accuracy'])\n",
    "model.fit(train_images,train_labels,epochs=5,batch_size=64)"
   ]
  },
  {
   "cell_type": "code",
   "execution_count": 7,
   "metadata": {},
   "outputs": [
    {
     "name": "stdout",
     "output_type": "stream",
     "text": [
      "313/313 [==============================] - 1s 2ms/step - loss: 0.0275 - accuracy: 0.9914\n"
     ]
    },
    {
     "data": {
      "text/plain": [
       "0.9914000034332275"
      ]
     },
     "execution_count": 7,
     "metadata": {},
     "output_type": "execute_result"
    }
   ],
   "source": [
    "test_loss,test_acc=model.evaluate(test_images,test_labels)\n",
    "test_acc"
   ]
  },
  {
   "cell_type": "code",
   "execution_count": 8,
   "metadata": {},
   "outputs": [
    {
     "ename": "FileExistsError",
     "evalue": "[WinError 183] 当文件已存在时，无法创建该文件。: 'D:\\\\Onedrive\\\\OneDrive - alumni.albany.edu\\\\2021-2022年上学期\\\\机器学习导论\\\\cats_and_dogs_small'",
     "output_type": "error",
     "traceback": [
      "\u001b[1;31m---------------------------------------------------------------------------\u001b[0m",
      "\u001b[1;31mFileExistsError\u001b[0m                           Traceback (most recent call last)",
      "\u001b[1;32m~\\AppData\\Local\\Temp/ipykernel_8204/1149465573.py\u001b[0m in \u001b[0;36m<module>\u001b[1;34m\u001b[0m\n\u001b[0;32m      2\u001b[0m \u001b[0moriginal_dataset_dir\u001b[0m\u001b[1;33m=\u001b[0m\u001b[1;34mr'D:\\Onedrive\\OneDrive - alumni.albany.edu\\2021-2022年上学期\\机器学习导论\\archive'\u001b[0m\u001b[1;33m\u001b[0m\u001b[1;33m\u001b[0m\u001b[0m\n\u001b[0;32m      3\u001b[0m \u001b[0mbase_dir\u001b[0m\u001b[1;33m=\u001b[0m\u001b[1;34mr\"D:\\Onedrive\\OneDrive - alumni.albany.edu\\2021-2022年上学期\\机器学习导论\\cats_and_dogs_small\"\u001b[0m\u001b[1;33m\u001b[0m\u001b[1;33m\u001b[0m\u001b[0m\n\u001b[1;32m----> 4\u001b[1;33m \u001b[0mos\u001b[0m\u001b[1;33m.\u001b[0m\u001b[0mmkdir\u001b[0m\u001b[1;33m(\u001b[0m\u001b[0mbase_dir\u001b[0m\u001b[1;33m)\u001b[0m\u001b[1;33m\u001b[0m\u001b[1;33m\u001b[0m\u001b[0m\n\u001b[0m\u001b[0;32m      5\u001b[0m \u001b[0mtrain_dir\u001b[0m\u001b[1;33m=\u001b[0m\u001b[0mos\u001b[0m\u001b[1;33m.\u001b[0m\u001b[0mpath\u001b[0m\u001b[1;33m.\u001b[0m\u001b[0mjoin\u001b[0m\u001b[1;33m(\u001b[0m\u001b[0mbase_dir\u001b[0m\u001b[1;33m,\u001b[0m\u001b[1;34m'train'\u001b[0m\u001b[1;33m)\u001b[0m\u001b[1;33m\u001b[0m\u001b[1;33m\u001b[0m\u001b[0m\n\u001b[0;32m      6\u001b[0m \u001b[0mos\u001b[0m\u001b[1;33m.\u001b[0m\u001b[0mmakedirs\u001b[0m\u001b[1;33m(\u001b[0m\u001b[0mtrain_dir\u001b[0m\u001b[1;33m)\u001b[0m\u001b[1;33m\u001b[0m\u001b[1;33m\u001b[0m\u001b[0m\n",
      "\u001b[1;31mFileExistsError\u001b[0m: [WinError 183] 当文件已存在时，无法创建该文件。: 'D:\\\\Onedrive\\\\OneDrive - alumni.albany.edu\\\\2021-2022年上学期\\\\机器学习导论\\\\cats_and_dogs_small'"
     ]
    }
   ],
   "source": [
    "import os,shutil\n",
    "original_dataset_dir=r'D:\\Onedrive\\OneDrive - alumni.albany.edu\\2021-2022年上学期\\机器学习导论\\archive'\n",
    "base_dir=r\"D:\\Onedrive\\OneDrive - alumni.albany.edu\\2021-2022年上学期\\机器学习导论\\cats_and_dogs_small\"\n",
    "os.mkdir(base_dir)\n",
    "train_dir=os.path.join(base_dir,'train')\n",
    "os.makedirs(train_dir)\n",
    "validation_dir=os.path.join(base_dir,'validation')\n",
    "os.makedirs(validation_dir)\n",
    "test_dir=os.path.join(base_dir,'test')\n",
    "os.makedirs(test_dir)\n",
    "\n",
    "train_cats_dir=os.path.join(train_dir,'cats')\n",
    "os.makedirs(train_cats_dir)\n",
    "\n",
    "train_dogs_dir=os.path.join(train_dir,'dogs')\n",
    "os.makedirs(train_dogs_dir)\n",
    "\n",
    "validation_cats_dir=os.path.join(validation_dir,\"cats\")\n",
    "os.makedirs(validation_cats_dir)\n",
    "\n",
    "validation_dogs_dir=os.path.join(validation_dir,'dogs')\n",
    "os.mkdir(validation_dogs_dir)\n",
    "\n",
    "test_cats_dir=os.path.join(test_dir,'cats')\n",
    "os.mkdir(test_cats_dir)\n",
    "\n",
    "test_dogs_dir=os.path.join(test_dir,'dogs')\n",
    "os.mkdir(test_dogs_dir)"
   ]
  },
  {
   "cell_type": "code",
   "execution_count": 6,
   "metadata": {},
   "outputs": [],
   "source": [
    "from tensorflow.keras import layers\n",
    "from tensorflow.keras import models\n",
    "\n",
    "model=models.Sequential()\n",
    "model.add(layers.Conv2D(32,(3,3),activation=\"relu\",input_shape=(150,150,3)))\n",
    "model.add(layers.MaxPooling2D(2,2))\n",
    "model.add(layers.Conv2D(64,(3,3),activation=\"relu\"))\n",
    "model.add(layers.MaxPooling2D(2,2))\n",
    "model.add(layers.Conv2D(128,(3,3),activation=\"relu\"))\n",
    "model.add(layers.MaxPooling2D(2,2))\n",
    "model.add(layers.Flatten())\n",
    "model.add(layers.Dense(512,activation=\"relu\"))\n",
    "model.add(layers.Dense(1,activation='sigmoid'))"
   ]
  },
  {
   "cell_type": "code",
   "execution_count": null,
   "metadata": {},
   "outputs": [],
   "source": [
    "import os\n",
    "import random\n",
    "import shutil\n",
    " \n",
    " \n",
    "# source_file:源路径, target_ir:目标路径\n",
    "def cover_files(source_dir, target_ir):\n",
    "    for file in os.listdir(source_dir):\n",
    "        source_file = os.path.join(source_dir, file)\n",
    " \n",
    "        if os.path.isfile(source_file):\n",
    "            shutil.copy(source_file, target_ir)\n",
    " \n",
    " \n",
    "def ensure_dir_exists(dir_name):\n",
    "    \"\"\"Makes sure the folder exists on disk.\n",
    "  Args:\n",
    "    dir_name: Path string to the folder we want to create.\n",
    "  \"\"\"\n",
    "    if not os.path.exists(dir_name):\n",
    "        os.makedirs(dir_name)\n",
    " \n",
    " \n",
    "def moveFile(file_dir, save_dir):\n",
    "    ensure_dir_exists(save_dir)\n",
    "    path_dir = os.listdir(file_dir)  \n",
    "    filenumber = len(path_dir)\n",
    "    rate = 0.1  # 自定义抽取图片的比例，比方说100张抽10张，那就是0.1\n",
    "    picknumber = int(filenumber * rate)  # 按照rate比例从文件夹中取一定数量图片\n",
    "    sample = random.sample(path_dir, picknumber)  # 随机选取picknumber数量的样本图片\n",
    "    # print (sample)\n",
    "    for name in sample:\n",
    "        shutil.move(file_dir + name, save_dir + name)\n",
    " \n",
    "#切记win10路径D:你的路径\\\\，最后一定要有\\\\才能进入目标文件  \n",
    "if __name__ == '__main__':\n",
    "    file_dir = 'C:\\\\Users\\\\ASUS\\\\Downloads\\\\archive\\\\training_set\\\\training_set\\\\dogs\\\\'  # 源图片文件夹路径\n",
    "    save_dir = 'C:\\\\Users\\\\ASUS\\\\Downloads\\\\archive\\\\validation\\\\dogs\\\\'  # 移动到目标文件夹路径\n",
    "    moveFile(file_dir, save_dir)\n"
   ]
  },
  {
   "cell_type": "code",
   "execution_count": 1,
   "metadata": {},
   "outputs": [
    {
     "name": "stdout",
     "output_type": "stream",
     "text": [
      "Found 7205 images belonging to 2 classes.\n",
      "Found 800 images belonging to 2 classes.\n"
     ]
    }
   ],
   "source": [
    "from tensorflow.keras.preprocessing.image import ImageDataGenerator\n",
    "train_datagen=ImageDataGenerator(rescale=1./255)\n",
    "test_datagen=ImageDataGenerator(rescale=1./255)\n",
    "train_dir=r'C:\\Users\\ASUS\\Downloads\\archive\\training_set\\training_set'\n",
    "validation_dir=r'C:\\Users\\ASUS\\Downloads\\archive\\validation'\n",
    "\n",
    "train_generator=train_datagen.flow_from_directory(train_dir,target_size=(150,150),batch_size=20,class_mode='binary')\n",
    "validation_generator=test_datagen.flow_from_directory(validation_dir,target_size=(150,150),batch_size=20,class_mode='binary')"
   ]
  },
  {
   "cell_type": "code",
   "execution_count": 7,
   "metadata": {},
   "outputs": [],
   "source": [
    "from tensorflow.keras import optimizers\n",
    "model.compile(loss='binary_crossentropy',optimizer=optimizers.RMSprop(learning_rate=1e-4),metrics=['acc'])\n"
   ]
  },
  {
   "cell_type": "code",
   "execution_count": 8,
   "metadata": {},
   "outputs": [
    {
     "name": "stdout",
     "output_type": "stream",
     "text": [
      "Epoch 1/10\n",
      "100/100 [==============================] - ETA: 0s - loss: 0.6897 - acc: 0.5310WARNING:tensorflow:Your input ran out of data; interrupting training. Make sure that your dataset or generator can generate at least `steps_per_epoch * epochs` batches (in this case, 50 batches). You may need to use the repeat() function when building your dataset.\n",
      "100/100 [==============================] - 16s 123ms/step - loss: 0.6897 - acc: 0.5310 - val_loss: 0.6569 - val_acc: 0.5850\n",
      "Epoch 2/10\n",
      "100/100 [==============================] - 10s 100ms/step - loss: 0.6383 - acc: 0.6345\n",
      "Epoch 3/10\n",
      "100/100 [==============================] - 10s 100ms/step - loss: 0.5945 - acc: 0.6890\n",
      "Epoch 4/10\n",
      "100/100 [==============================] - 10s 101ms/step - loss: 0.5673 - acc: 0.7095\n",
      "Epoch 5/10\n",
      "100/100 [==============================] - 10s 100ms/step - loss: 0.5484 - acc: 0.7234\n",
      "Epoch 6/10\n",
      "100/100 [==============================] - 10s 101ms/step - loss: 0.5276 - acc: 0.7360\n",
      "Epoch 7/10\n",
      "100/100 [==============================] - 11s 112ms/step - loss: 0.5110 - acc: 0.7535\n",
      "Epoch 8/10\n",
      "100/100 [==============================] - 11s 110ms/step - loss: 0.5087 - acc: 0.7550\n",
      "Epoch 9/10\n",
      "100/100 [==============================] - 11s 109ms/step - loss: 0.4670 - acc: 0.7865\n",
      "Epoch 10/10\n",
      "100/100 [==============================] - 11s 105ms/step - loss: 0.4489 - acc: 0.7915\n"
     ]
    }
   ],
   "source": [
    "history=model.fit(train_generator,steps_per_epoch=100,epochs=10,validation_steps=50,validation_data=validation_generator)"
   ]
  },
  {
   "cell_type": "code",
   "execution_count": 9,
   "metadata": {},
   "outputs": [
    {
     "name": "stdout",
     "output_type": "stream",
     "text": [
      "WARNING:tensorflow:From C:\\Users\\ASUS\\AppData\\Local\\Temp/ipykernel_19952/3763141526.py:2: is_gpu_available (from tensorflow.python.framework.test_util) is deprecated and will be removed in a future version.\n",
      "Instructions for updating:\n",
      "Use `tf.config.list_physical_devices('GPU')` instead.\n"
     ]
    },
    {
     "data": {
      "text/plain": [
       "True"
      ]
     },
     "execution_count": 9,
     "metadata": {},
     "output_type": "execute_result"
    }
   ],
   "source": [
    "import tensorflow as tf\n",
    "tf.test.is_gpu_available()\n"
   ]
  },
  {
   "cell_type": "code",
   "execution_count": 10,
   "metadata": {},
   "outputs": [
    {
     "data": {
      "text/plain": [
       "[PhysicalDevice(name='/physical_device:GPU:0', device_type='GPU')]"
      ]
     },
     "execution_count": 10,
     "metadata": {},
     "output_type": "execute_result"
    }
   ],
   "source": [
    "import tensorflow as tf\n",
    "tf.config.list_physical_devices('GPU')\n"
   ]
  },
  {
   "cell_type": "code",
   "execution_count": 11,
   "metadata": {},
   "outputs": [
    {
     "data": {
      "text/plain": [
       "1"
      ]
     },
     "execution_count": 11,
     "metadata": {},
     "output_type": "execute_result"
    }
   ],
   "source": [
    "import matplotlib.pyplot as plt\n",
    "acc=history.history['acc']\n",
    "val_acc=history.history['val_acc']\n",
    "loss=history.history['loss']\n",
    "val_loss=history.history['val_loss']\n",
    "epochs=range(1,len(acc)+1)\n",
    "len(val_acc)"
   ]
  },
  {
   "cell_type": "code",
   "execution_count": 12,
   "metadata": {},
   "outputs": [
    {
     "data": {
      "text/plain": [
       "<Figure size 432x288 with 0 Axes>"
      ]
     },
     "execution_count": 12,
     "metadata": {},
     "output_type": "execute_result"
    },
    {
     "data": {
      "image/png": "[encoded data removed]",
      "text/plain": [
       "<Figure size 432x288 with 1 Axes>"
      ]
     },
     "metadata": {
      "needs_background": "light"
     },
     "output_type": "display_data"
    },
    {
     "data": {
      "text/plain": [
       "<Figure size 432x288 with 0 Axes>"
      ]
     },
     "metadata": {},
     "output_type": "display_data"
    }
   ],
   "source": [
    "plt.plot(epochs,acc,'bo',label='Training acc')\n",
    "plt.plot(epochs,loss,'b',label='Training loss')\n",
    "plt.title('Training and validation accuracy')\n",
    "plt.legend()\n",
    "plt.figure()\n"
   ]
  },
  {
   "cell_type": "code",
   "execution_count": 13,
   "metadata": {},
   "outputs": [],
   "source": [
    "data=ImageDataGenerator(rotation_range=40,width_shift_range=0.2,height_shift_range=0.2,shear_range=0.2,zoom_range=0.2,horizontal_flip=True,fill_mode='nearest')"
   ]
  },
  {
   "cell_type": "code",
   "execution_count": 18,
   "metadata": {},
   "outputs": [],
   "source": [
    "model=models.Sequential()\n",
    "model.add(layers.Conv2D(32,(3,3),activation=\"relu\",input_shape=(150,150,3)))\n",
    "model.add(layers.MaxPooling2D(2,2))\n",
    "model.add(layers.Conv2D(64,(3,3),activation=\"relu\",input_shape=(150,150,3)))\n",
    "model.add(layers.MaxPooling2D(2,2))\n",
    "model.add(layers.Conv2D(128,(3,3),activation=\"relu\",input_shape=(150,150,3)))\n",
    "model.add(layers.MaxPooling2D(2,2))\n",
    "model.add(layers.Flatten())\n",
    "model.add(layers.Dropout(0.5))\n",
    "model.add(layers.Dense(512,activation=\"relu\"))\n",
    "model.add(layers.Dense(1,activation='sigmoid'))\n",
    "\n",
    "model.compile(loss='binary_crossentropy',optimizer=optimizers.RMSprop(learning_rate=1e-4),metrics=['acc'])"
   ]
  },
  {
   "cell_type": "code",
   "execution_count": 19,
   "metadata": {},
   "outputs": [
    {
     "name": "stdout",
     "output_type": "stream",
     "text": [
      "Found 7205 images belonging to 2 classes.\n",
      "Found 800 images belonging to 2 classes.\n"
     ]
    }
   ],
   "source": [
    "\n",
    "train_datagen=ImageDataGenerator(rescale=1.0/255,rotation_range=40,width_shift_range=0.2,height_shift_range=0.2,shear_range=0.2,zoom_range=0.2,horizontal_flip=True)\n",
    "test_datagen=ImageDataGenerator(rescale=1.0/255)\n",
    "train_generator=train_datagen.flow_from_directory(train_dir,target_size=(150,150),batch_size=60,class_mode='binary')\n",
    "validation_generator=test_datagen.flow_from_directory(validation_dir,target_size=(150,150),batch_size=20,class_mode='binary')"
   ]
  },
  {
   "cell_type": "code",
   "execution_count": 20,
   "metadata": {},
   "outputs": [
    {
     "name": "stdout",
     "output_type": "stream",
     "text": [
      "Epoch 1/100\n",
      "120/120 [==============================] - 18s 142ms/step - loss: 0.6883 - acc: 0.5315 - val_loss: 0.7020 - val_acc: 0.5125\n",
      "Epoch 2/100\n",
      "120/120 [==============================] - 17s 142ms/step - loss: 0.6563 - acc: 0.5888 - val_loss: 0.7881 - val_acc: 0.5125\n",
      "Epoch 3/100\n",
      "120/120 [==============================] - 17s 141ms/step - loss: 0.6286 - acc: 0.6412 - val_loss: 0.6646 - val_acc: 0.6075\n",
      "Epoch 4/100\n",
      "120/120 [==============================] - 17s 143ms/step - loss: 0.6177 - acc: 0.6475 - val_loss: 0.5894 - val_acc: 0.6800\n",
      "Epoch 5/100\n",
      "120/120 [==============================] - 17s 141ms/step - loss: 0.6074 - acc: 0.6627 - val_loss: 0.5797 - val_acc: 0.6975\n",
      "Epoch 6/100\n",
      "120/120 [==============================] - 17s 141ms/step - loss: 0.5911 - acc: 0.6799 - val_loss: 0.6112 - val_acc: 0.6650\n",
      "Epoch 7/100\n",
      "120/120 [==============================] - 17s 142ms/step - loss: 0.5854 - acc: 0.6846 - val_loss: 0.6090 - val_acc: 0.6750\n",
      "Epoch 8/100\n",
      "120/120 [==============================] - 17s 142ms/step - loss: 0.5698 - acc: 0.6994 - val_loss: 0.6133 - val_acc: 0.6700\n",
      "Epoch 9/100\n",
      "120/120 [==============================] - 17s 142ms/step - loss: 0.5766 - acc: 0.6950 - val_loss: 0.5961 - val_acc: 0.6575\n",
      "Epoch 10/100\n",
      "120/120 [==============================] - 17s 143ms/step - loss: 0.5561 - acc: 0.7130 - val_loss: 0.5309 - val_acc: 0.7175\n",
      "Epoch 11/100\n",
      "120/120 [==============================] - 17s 142ms/step - loss: 0.5743 - acc: 0.7063 - val_loss: 0.5264 - val_acc: 0.7575\n",
      "Epoch 12/100\n",
      "120/120 [==============================] - 17s 144ms/step - loss: 0.5519 - acc: 0.7118 - val_loss: 0.5291 - val_acc: 0.7100\n",
      "Epoch 13/100\n",
      "120/120 [==============================] - 17s 142ms/step - loss: 0.5452 - acc: 0.7217 - val_loss: 0.5477 - val_acc: 0.7125\n",
      "Epoch 14/100\n",
      "120/120 [==============================] - 17s 143ms/step - loss: 0.5515 - acc: 0.7133 - val_loss: 0.5339 - val_acc: 0.7300\n",
      "Epoch 15/100\n",
      "120/120 [==============================] - 17s 143ms/step - loss: 0.5490 - acc: 0.7172 - val_loss: 0.5654 - val_acc: 0.7075\n",
      "Epoch 16/100\n",
      "120/120 [==============================] - 17s 142ms/step - loss: 0.5509 - acc: 0.7186 - val_loss: 0.5160 - val_acc: 0.7475\n",
      "Epoch 17/100\n",
      "120/120 [==============================] - 17s 143ms/step - loss: 0.5303 - acc: 0.7266 - val_loss: 0.5358 - val_acc: 0.7250\n",
      "Epoch 18/100\n",
      "120/120 [==============================] - 17s 142ms/step - loss: 0.5249 - acc: 0.7349 - val_loss: 0.5258 - val_acc: 0.7225\n",
      "Epoch 19/100\n",
      "120/120 [==============================] - 17s 143ms/step - loss: 0.5092 - acc: 0.7488 - val_loss: 0.5120 - val_acc: 0.7375\n",
      "Epoch 20/100\n",
      "120/120 [==============================] - 17s 143ms/step - loss: 0.5187 - acc: 0.7380 - val_loss: 0.5014 - val_acc: 0.7575\n",
      "Epoch 21/100\n",
      "120/120 [==============================] - 17s 143ms/step - loss: 0.5149 - acc: 0.7453 - val_loss: 0.4511 - val_acc: 0.7800\n",
      "Epoch 22/100\n",
      "120/120 [==============================] - 17s 143ms/step - loss: 0.5120 - acc: 0.7393 - val_loss: 0.4945 - val_acc: 0.7325\n",
      "Epoch 23/100\n",
      "120/120 [==============================] - 17s 143ms/step - loss: 0.5093 - acc: 0.7458 - val_loss: 0.5225 - val_acc: 0.7575\n",
      "Epoch 24/100\n",
      "120/120 [==============================] - 17s 144ms/step - loss: 0.5079 - acc: 0.7485 - val_loss: 0.4743 - val_acc: 0.7900\n",
      "Epoch 25/100\n",
      "120/120 [==============================] - 18s 146ms/step - loss: 0.5074 - acc: 0.7524 - val_loss: 0.4822 - val_acc: 0.7725\n",
      "Epoch 26/100\n",
      "120/120 [==============================] - 17s 140ms/step - loss: 0.4922 - acc: 0.7630 - val_loss: 0.5394 - val_acc: 0.6975\n",
      "Epoch 27/100\n",
      "120/120 [==============================] - 17s 140ms/step - loss: 0.4975 - acc: 0.7577 - val_loss: 0.4971 - val_acc: 0.7875\n",
      "Epoch 28/100\n",
      "120/120 [==============================] - 17s 140ms/step - loss: 0.4921 - acc: 0.7627 - val_loss: 0.5159 - val_acc: 0.7525\n",
      "Epoch 29/100\n",
      "120/120 [==============================] - 17s 141ms/step - loss: 0.4991 - acc: 0.7547 - val_loss: 0.5269 - val_acc: 0.7600\n",
      "Epoch 30/100\n",
      "120/120 [==============================] - 17s 140ms/step - loss: 0.4993 - acc: 0.7565 - val_loss: 0.5240 - val_acc: 0.7400\n",
      "Epoch 31/100\n",
      "120/120 [==============================] - 17s 140ms/step - loss: 0.4979 - acc: 0.7547 - val_loss: 0.4520 - val_acc: 0.8000\n",
      "Epoch 32/100\n",
      "120/120 [==============================] - 17s 140ms/step - loss: 0.4984 - acc: 0.7521 - val_loss: 0.5223 - val_acc: 0.7625\n",
      "Epoch 33/100\n",
      "120/120 [==============================] - 17s 140ms/step - loss: 0.4883 - acc: 0.7557 - val_loss: 0.4532 - val_acc: 0.7775\n",
      "Epoch 34/100\n",
      "120/120 [==============================] - 17s 140ms/step - loss: 0.4821 - acc: 0.7690 - val_loss: 0.4648 - val_acc: 0.7575\n",
      "Epoch 35/100\n",
      "120/120 [==============================] - 17s 141ms/step - loss: 0.4794 - acc: 0.7689 - val_loss: 0.4599 - val_acc: 0.7800\n",
      "Epoch 36/100\n",
      "120/120 [==============================] - 17s 140ms/step - loss: 0.4891 - acc: 0.7648 - val_loss: 0.4758 - val_acc: 0.7800\n",
      "Epoch 37/100\n",
      "120/120 [==============================] - 17s 140ms/step - loss: 0.4862 - acc: 0.7648 - val_loss: 0.4373 - val_acc: 0.7875\n",
      "Epoch 38/100\n",
      "120/120 [==============================] - 17s 140ms/step - loss: 0.4799 - acc: 0.7737 - val_loss: 0.4050 - val_acc: 0.8225\n",
      "Epoch 39/100\n",
      "120/120 [==============================] - 17s 141ms/step - loss: 0.4936 - acc: 0.7598 - val_loss: 0.5244 - val_acc: 0.7450\n",
      "Epoch 40/100\n",
      "120/120 [==============================] - 17s 140ms/step - loss: 0.4773 - acc: 0.7656 - val_loss: 0.4765 - val_acc: 0.7750\n",
      "Epoch 41/100\n",
      "120/120 [==============================] - 17s 140ms/step - loss: 0.4689 - acc: 0.7763 - val_loss: 0.4696 - val_acc: 0.7625\n",
      "Epoch 42/100\n",
      "120/120 [==============================] - 17s 140ms/step - loss: 0.4696 - acc: 0.7739 - val_loss: 0.4676 - val_acc: 0.7600\n",
      "Epoch 43/100\n",
      "120/120 [==============================] - 17s 141ms/step - loss: 0.4743 - acc: 0.7641 - val_loss: 0.4981 - val_acc: 0.7700\n",
      "Epoch 44/100\n",
      "120/120 [==============================] - 17s 143ms/step - loss: 0.4698 - acc: 0.7742 - val_loss: 0.4563 - val_acc: 0.7925\n",
      "Epoch 45/100\n",
      "120/120 [==============================] - 17s 140ms/step - loss: 0.4708 - acc: 0.7763 - val_loss: 0.4682 - val_acc: 0.7850\n",
      "Epoch 46/100\n",
      "120/120 [==============================] - 17s 139ms/step - loss: 0.4695 - acc: 0.7805 - val_loss: 0.4382 - val_acc: 0.8075\n",
      "Epoch 47/100\n",
      "120/120 [==============================] - 17s 140ms/step - loss: 0.4603 - acc: 0.7833 - val_loss: 0.4318 - val_acc: 0.7975\n",
      "Epoch 48/100\n",
      "120/120 [==============================] - 17s 140ms/step - loss: 0.4672 - acc: 0.7753 - val_loss: 0.4513 - val_acc: 0.7900\n",
      "Epoch 49/100\n",
      "120/120 [==============================] - 17s 140ms/step - loss: 0.4590 - acc: 0.7839 - val_loss: 0.5073 - val_acc: 0.7550\n",
      "Epoch 50/100\n",
      "120/120 [==============================] - 17s 140ms/step - loss: 0.4696 - acc: 0.7802 - val_loss: 0.4405 - val_acc: 0.7700\n",
      "Epoch 51/100\n",
      "120/120 [==============================] - 17s 140ms/step - loss: 0.4639 - acc: 0.7752 - val_loss: 0.4836 - val_acc: 0.7725\n",
      "Epoch 52/100\n",
      "120/120 [==============================] - 17s 140ms/step - loss: 0.4596 - acc: 0.7779 - val_loss: 0.5461 - val_acc: 0.7275\n",
      "Epoch 53/100\n",
      "120/120 [==============================] - 17s 144ms/step - loss: 0.4689 - acc: 0.7689 - val_loss: 0.4637 - val_acc: 0.7925\n",
      "Epoch 54/100\n",
      "120/120 [==============================] - 18s 145ms/step - loss: 0.4620 - acc: 0.7745 - val_loss: 0.4270 - val_acc: 0.8175\n",
      "Epoch 55/100\n",
      "120/120 [==============================] - 17s 144ms/step - loss: 0.4493 - acc: 0.7884 - val_loss: 0.3955 - val_acc: 0.8225\n",
      "Epoch 56/100\n",
      "120/120 [==============================] - 17s 144ms/step - loss: 0.4534 - acc: 0.7820 - val_loss: 0.4475 - val_acc: 0.8000\n",
      "Epoch 57/100\n",
      "120/120 [==============================] - 17s 143ms/step - loss: 0.4541 - acc: 0.7859 - val_loss: 0.3733 - val_acc: 0.8125\n",
      "Epoch 58/100\n",
      "120/120 [==============================] - 17s 143ms/step - loss: 0.4666 - acc: 0.7799 - val_loss: 0.4425 - val_acc: 0.8000\n",
      "Epoch 59/100\n",
      "120/120 [==============================] - 17s 142ms/step - loss: 0.4431 - acc: 0.7953 - val_loss: 0.4224 - val_acc: 0.8250\n",
      "Epoch 60/100\n",
      "120/120 [==============================] - 17s 142ms/step - loss: 0.4562 - acc: 0.7836 - val_loss: 0.5237 - val_acc: 0.7775\n",
      "Epoch 61/100\n",
      "120/120 [==============================] - 17s 142ms/step - loss: 0.4426 - acc: 0.7885 - val_loss: 0.4459 - val_acc: 0.7775\n",
      "Epoch 62/100\n",
      "120/120 [==============================] - 17s 142ms/step - loss: 0.4498 - acc: 0.7883 - val_loss: 0.4790 - val_acc: 0.7825\n",
      "Epoch 63/100\n",
      "120/120 [==============================] - 17s 142ms/step - loss: 0.4350 - acc: 0.8028 - val_loss: 0.4494 - val_acc: 0.7825\n",
      "Epoch 64/100\n",
      "120/120 [==============================] - 17s 142ms/step - loss: 0.4540 - acc: 0.7828 - val_loss: 0.4283 - val_acc: 0.8025\n",
      "Epoch 65/100\n",
      "120/120 [==============================] - 17s 142ms/step - loss: 0.4537 - acc: 0.7960 - val_loss: 0.4434 - val_acc: 0.7975\n",
      "Epoch 66/100\n",
      "120/120 [==============================] - 17s 142ms/step - loss: 0.4480 - acc: 0.7964 - val_loss: 0.4575 - val_acc: 0.8025\n",
      "Epoch 67/100\n",
      "120/120 [==============================] - 17s 142ms/step - loss: 0.4475 - acc: 0.7891 - val_loss: 0.5467 - val_acc: 0.7800\n",
      "Epoch 68/100\n",
      "120/120 [==============================] - 17s 142ms/step - loss: 0.4481 - acc: 0.7870 - val_loss: 0.4042 - val_acc: 0.8100\n",
      "Epoch 69/100\n",
      "120/120 [==============================] - 17s 142ms/step - loss: 0.4430 - acc: 0.7957 - val_loss: 0.3985 - val_acc: 0.7975\n",
      "Epoch 70/100\n",
      "120/120 [==============================] - 17s 143ms/step - loss: 0.4405 - acc: 0.7983 - val_loss: 0.4432 - val_acc: 0.8025\n",
      "Epoch 71/100\n",
      "120/120 [==============================] - 17s 142ms/step - loss: 0.4473 - acc: 0.7920 - val_loss: 0.4326 - val_acc: 0.8050\n",
      "Epoch 72/100\n",
      "120/120 [==============================] - 17s 142ms/step - loss: 0.4299 - acc: 0.7966 - val_loss: 0.4797 - val_acc: 0.7625\n",
      "Epoch 73/100\n",
      "120/120 [==============================] - 17s 142ms/step - loss: 0.4327 - acc: 0.7928 - val_loss: 0.4558 - val_acc: 0.7925\n",
      "Epoch 74/100\n",
      "120/120 [==============================] - 17s 142ms/step - loss: 0.4341 - acc: 0.8023 - val_loss: 0.4009 - val_acc: 0.8350\n",
      "Epoch 75/100\n",
      "120/120 [==============================] - 17s 142ms/step - loss: 0.4463 - acc: 0.7842 - val_loss: 0.4009 - val_acc: 0.8125\n",
      "Epoch 76/100\n",
      "120/120 [==============================] - 17s 142ms/step - loss: 0.4270 - acc: 0.8021 - val_loss: 0.4015 - val_acc: 0.8275\n",
      "Epoch 77/100\n",
      "120/120 [==============================] - 17s 142ms/step - loss: 0.4348 - acc: 0.7988 - val_loss: 0.4154 - val_acc: 0.8000\n",
      "Epoch 78/100\n",
      "120/120 [==============================] - 18s 145ms/step - loss: 0.4362 - acc: 0.8068 - val_loss: 0.5001 - val_acc: 0.7650\n",
      "Epoch 79/100\n",
      "120/120 [==============================] - 17s 143ms/step - loss: 0.4397 - acc: 0.7905 - val_loss: 0.4352 - val_acc: 0.7900\n",
      "Epoch 80/100\n",
      "120/120 [==============================] - 17s 142ms/step - loss: 0.4304 - acc: 0.8028 - val_loss: 0.4696 - val_acc: 0.8100\n",
      "Epoch 81/100\n",
      "120/120 [==============================] - 17s 142ms/step - loss: 0.4390 - acc: 0.8007 - val_loss: 0.5119 - val_acc: 0.7625\n",
      "Epoch 82/100\n",
      "120/120 [==============================] - 17s 142ms/step - loss: 0.4283 - acc: 0.7996 - val_loss: 0.4109 - val_acc: 0.8200\n",
      "Epoch 83/100\n",
      "120/120 [==============================] - 17s 142ms/step - loss: 0.4198 - acc: 0.8039 - val_loss: 0.4491 - val_acc: 0.8025\n",
      "Epoch 84/100\n",
      "120/120 [==============================] - 17s 142ms/step - loss: 0.4261 - acc: 0.8057 - val_loss: 0.3921 - val_acc: 0.8075\n",
      "Epoch 85/100\n",
      "120/120 [==============================] - 17s 142ms/step - loss: 0.4374 - acc: 0.8007 - val_loss: 0.4207 - val_acc: 0.7950\n",
      "Epoch 86/100\n",
      "120/120 [==============================] - 17s 142ms/step - loss: 0.4300 - acc: 0.8003 - val_loss: 0.4506 - val_acc: 0.8100\n",
      "Epoch 87/100\n",
      "120/120 [==============================] - 17s 142ms/step - loss: 0.4158 - acc: 0.8125 - val_loss: 0.4091 - val_acc: 0.8250\n",
      "Epoch 88/100\n",
      "120/120 [==============================] - 17s 142ms/step - loss: 0.4192 - acc: 0.8036 - val_loss: 0.3980 - val_acc: 0.8175\n",
      "Epoch 89/100\n",
      "120/120 [==============================] - 17s 142ms/step - loss: 0.4286 - acc: 0.8085 - val_loss: 0.4081 - val_acc: 0.8150\n",
      "Epoch 90/100\n",
      "120/120 [==============================] - 17s 142ms/step - loss: 0.4156 - acc: 0.8164 - val_loss: 0.4349 - val_acc: 0.8075\n",
      "Epoch 91/100\n",
      "120/120 [==============================] - 17s 142ms/step - loss: 0.4234 - acc: 0.8081 - val_loss: 0.3997 - val_acc: 0.8175\n",
      "Epoch 92/100\n",
      "120/120 [==============================] - 17s 142ms/step - loss: 0.4301 - acc: 0.8047 - val_loss: 0.4422 - val_acc: 0.8225\n",
      "Epoch 93/100\n",
      "120/120 [==============================] - 17s 142ms/step - loss: 0.4208 - acc: 0.8130 - val_loss: 0.4079 - val_acc: 0.8100\n",
      "Epoch 94/100\n",
      "120/120 [==============================] - 17s 143ms/step - loss: 0.4130 - acc: 0.8112 - val_loss: 0.4550 - val_acc: 0.8025\n",
      "Epoch 95/100\n",
      "120/120 [==============================] - 17s 142ms/step - loss: 0.4043 - acc: 0.8117 - val_loss: 0.4669 - val_acc: 0.8025\n",
      "Epoch 96/100\n",
      "120/120 [==============================] - 17s 143ms/step - loss: 0.4164 - acc: 0.8096 - val_loss: 0.3770 - val_acc: 0.8400\n",
      "Epoch 97/100\n",
      "120/120 [==============================] - 17s 143ms/step - loss: 0.4074 - acc: 0.8117 - val_loss: 0.4253 - val_acc: 0.8275\n",
      "Epoch 98/100\n",
      "120/120 [==============================] - 17s 142ms/step - loss: 0.4134 - acc: 0.8085 - val_loss: 0.4021 - val_acc: 0.8200\n",
      "Epoch 99/100\n",
      "120/120 [==============================] - 17s 143ms/step - loss: 0.4193 - acc: 0.8057 - val_loss: 0.4319 - val_acc: 0.7900\n",
      "Epoch 100/100\n",
      "120/120 [==============================] - 17s 142ms/step - loss: 0.4307 - acc: 0.7981 - val_loss: 0.4051 - val_acc: 0.8100\n"
     ]
    }
   ],
   "source": [
    "history=model.fit_generator(train_generator,steps_per_epoch=120,epochs=100,validation_data=validation_generator,validation_steps=20)"
   ]
  },
  {
   "cell_type": "code",
   "execution_count": 21,
   "metadata": {},
   "outputs": [],
   "source": [
    "import matplotlib.pyplot as plt\n",
    "acc=history.history['acc']\n",
    "val_acc=history.history['val_acc']\n",
    "loss=history.history['loss']\n",
    "val_loss=history.history['val_loss']\n",
    "epochs=range(1,len(acc)+1)"
   ]
  },
  {
   "cell_type": "code",
   "execution_count": 24,
   "metadata": {},
   "outputs": [
    {
     "data": {
      "text/plain": [
       "<Figure size 432x288 with 0 Axes>"
      ]
     },
     "execution_count": 24,
     "metadata": {},
     "output_type": "execute_result"
    },
    {
     "data": {
      "image/png": "[encoded data removed]",
      "text/plain": [
       "<Figure size 432x288 with 1 Axes>"
      ]
     },
     "metadata": {
      "needs_background": "light"
     },
     "output_type": "display_data"
    },
    {
     "data": {
      "text/plain": [
       "<Figure size 432x288 with 0 Axes>"
      ]
     },
     "metadata": {},
     "output_type": "display_data"
    }
   ],
   "source": [
    "plt.plot(epochs,acc,'bo',label='Training acc')\n",
    "plt.plot(epochs,val_acc,'r',label='val acc')\n",
    "plt.title('Training and validation accuracy')\n",
    "plt.legend()\n",
    "plt.figure()\n"
   ]
  },
  {
   "cell_type": "code",
   "execution_count": 25,
   "metadata": {},
   "outputs": [
    {
     "data": {
      "text/plain": [
       "<Figure size 432x288 with 0 Axes>"
      ]
     },
     "execution_count": 25,
     "metadata": {},
     "output_type": "execute_result"
    },
    {
     "data": {
      "image/png": "[encoded data removed]",
      "text/plain": [
       "<Figure size 432x288 with 1 Axes>"
      ]
     },
     "metadata": {
      "needs_background": "light"
     },
     "output_type": "display_data"
    },
    {
     "data": {
      "text/plain": [
       "<Figure size 432x288 with 0 Axes>"
      ]
     },
     "metadata": {},
     "output_type": "display_data"
    }
   ],
   "source": [
    "plt.plot(epochs,loss,'bo',label='Training loss')\n",
    "plt.plot(epochs,val_loss,'r',label='val loss')\n",
    "plt.legend()\n",
    "plt.figure()"
   ]
  }
 ],
 "metadata": {
  "interpreter": {
   "hash": "123000c325e5de2f7835b6ba4c49faeb462be3fb95447c19827f28a3698560a6"
  },
  "kernelspec": {
   "display_name": "Python 3.8.12 64-bit ('tf2': conda)",
   "name": "python3"
  },
  "language_info": {
   "codemirror_mode": {
    "name": "ipython",
    "version": 3
   },
   "file_extension": ".py",
   "mimetype": "text/x-python",
   "name": "python",
   "nbconvert_exporter": "python",
   "pygments_lexer": "ipython3",
   "version": "3.8.12"
  },
  "orig_nbformat": 4
 },
 "nbformat": 4,
 "nbformat_minor": 2
}
